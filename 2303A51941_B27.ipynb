{
  "nbformat": 4,
  "nbformat_minor": 0,
  "metadata": {
    "colab": {
      "provenance": [],
      "authorship_tag": "ABX9TyM2WXhibwzfjHpKn87Tt31J",
      "include_colab_link": true
    },
    "kernelspec": {
      "name": "python3",
      "display_name": "Python 3"
    },
    "language_info": {
      "name": "python"
    }
  },
  "cells": [
    {
      "cell_type": "markdown",
      "metadata": {
        "id": "view-in-github",
        "colab_type": "text"
      },
      "source": [
        "<a href=\"https://colab.research.google.com/github/2303A51941/23CSBTB-27/blob/main/2303A51941_B27.ipynb\" target=\"_parent\"><img src=\"https://colab.research.google.com/assets/colab-badge.svg\" alt=\"Open In Colab\"/></a>"
      ]
    },
    {
      "cell_type": "code",
      "source": [
        "# Import necessary libraries\n",
        "import pandas as pd\n",
        "import numpy as np\n",
        "from sklearn.model_selection import train_test_split\n",
        "from sklearn.preprocessing import StandardScaler\n",
        "from sklearn.neighbors import KNeighborsClassifier\n",
        "from sklearn.metrics import accuracy_score, confusion_matrix, classification_report\n",
        "\n",
        "# Step 1: Load the dataset\n",
        "loan_data = pd.read_csv('/content/loan_data.csv')\n",
        "\n",
        "# Step 2: Preprocess the data\n",
        "\n",
        "\n",
        "\n",
        "print(loan_data.isnull().sum())\n",
        "\n",
        "loan_data = pd.get_dummies(loan_data, columns=['purpose'], drop_first=True)  # Specify the categorical columns for one-hot encoding\n",
        "\n",
        "loan_data.fillna(loan_data.mean(), inplace=True)\n",
        "\n",
        "\n",
        "print(loan_data.columns)\n",
        "\n",
        "\n",
        "X = loan_data.drop('not.fully.paid', axis=1)  replace 'Loan_Status_Y' with the actual column name\n",
        "y = loan_data['not.fully.paid']\n",
        "\n",
        "\n",
        "# Step 3: Split the data into training and testing set\n",
        "X_train, X_test, y_train, y_test = train_test_split(X, y, test_size=0.3, random_state=42)\n",
        "\n",
        "# Step 4: Scale the features (important for KNN)\n",
        "scaler = StandardScaler()\n",
        "X_train_scaled = scaler.fit_transform(X_train)\n",
        "X_test_scaled = scaler.transform(X_test)\n",
        "\n",
        "# Step 5: Build the KNN model\n",
        "knn = KNeighborsClassifier(n_neighbors=5)  # You can experiment with different values of k\n",
        "knn.fit(X_train_scaled, y_train)\n",
        "\n",
        "# Step 6: Make predictions and evaluate the model\n",
        "y_pred = knn.predict(X_test_scaled)\n",
        "\n",
        "accuracy = accuracy_score(y_test, y_pred)\n",
        "print(f'Accuracy: {accuracy:.4f}')\n",
        "\n",
        "conf_matrix = confusion_matrix(y_test, y_pred)\n",
        "print('Confusion Matrix:')\n",
        "print(conf_matrix)\n",
        "\n",
        "class_report = classification_report(y_test, y_pred)\n",
        "print('Classification Report:')\n",
        "print(class_report)"
      ],
      "metadata": {
        "colab": {
          "base_uri": "https://localhost:8080/"
        },
        "id": "XxjcoLcIa5zH",
        "outputId": "d68b809e-8ff1-4fe8-de11-c935868e98c1"
      },
      "execution_count": null,
      "outputs": [
        {
          "output_type": "stream",
          "name": "stdout",
          "text": [
            "credit.policy        0\n",
            "purpose              0\n",
            "int.rate             0\n",
            "installment          0\n",
            "log.annual.inc       0\n",
            "dti                  0\n",
            "fico                 0\n",
            "days.with.cr.line    0\n",
            "revol.bal            0\n",
            "revol.util           0\n",
            "inq.last.6mths       0\n",
            "delinq.2yrs          0\n",
            "pub.rec              0\n",
            "not.fully.paid       0\n",
            "dtype: int64\n",
            "Index(['credit.policy', 'int.rate', 'installment', 'log.annual.inc', 'dti',\n",
            "       'fico', 'days.with.cr.line', 'revol.bal', 'revol.util',\n",
            "       'inq.last.6mths', 'delinq.2yrs', 'pub.rec', 'not.fully.paid',\n",
            "       'purpose_credit_card', 'purpose_debt_consolidation',\n",
            "       'purpose_educational', 'purpose_home_improvement',\n",
            "       'purpose_major_purchase', 'purpose_small_business'],\n",
            "      dtype='object')\n",
            "Accuracy: 0.8208\n",
            "Confusion Matrix:\n",
            "[[2324   84]\n",
            " [ 431   35]]\n",
            "Classification Report:\n",
            "              precision    recall  f1-score   support\n",
            "\n",
            "           0       0.84      0.97      0.90      2408\n",
            "           1       0.29      0.08      0.12       466\n",
            "\n",
            "    accuracy                           0.82      2874\n",
            "   macro avg       0.57      0.52      0.51      2874\n",
            "weighted avg       0.75      0.82      0.77      2874\n",
            "\n"
          ]
        }
      ]
    },
    {
      "cell_type": "code",
      "execution_count": null,
      "metadata": {
        "colab": {
          "base_uri": "https://localhost:8080/"
        },
        "id": "d7oPxhmWaM92",
        "outputId": "16186338-7452-46c1-8c51-78ad99cdbf82"
      },
      "outputs": [
        {
          "output_type": "stream",
          "name": "stdout",
          "text": [
            "Best value of k: 18\n"
          ]
        }
      ],
      "source": [
        "# Grid search to find the best value of k (optional)\n",
        "from sklearn.model_selection import GridSearchCV\n",
        "import numpy as np\n",
        "\n",
        "param_grid = {'n_neighbors': np.arange(1, 20)}\n",
        "grid_search = GridSearchCV(KNeighborsClassifier(), param_grid, cv=5)\n",
        "grid_search.fit(X_train_scaled, y_train)\n",
        "\n",
        "print(f'Best value of k: {grid_search.best_params_[\"n_neighbors\"]}')\n"
      ]
    }
  ]
}